{
 "cells": [
  {
   "cell_type": "code",
   "execution_count": 140,
   "id": "e69c4ba1-85f3-4a02-ae37-c64347a01803",
   "metadata": {},
   "outputs": [],
   "source": [
    "# To ignore warnings\n",
    "import warnings\n",
    "warnings.filterwarnings(\"ignore\")\n",
    "import pandas as pd\n",
    "import numpy as np\n",
    "import matplotlib.pyplot as plt\n",
    "import seaborn as sns\n",
    "\n",
    "from sklearn.model_selection import train_test_split\n",
    "from sklearn.metrics import mean_squared_error, r2_score, mean_absolute_error\n",
    "from sklearn.preprocessing import StandardScaler\n",
    "from sklearn.linear_model import LinearRegression\n",
    "from sklearn import metrics\n",
    "\n",
    "from scipy.stats import zscore\n",
    "import dtale\n",
    " \n",
    "## This statement allows the visuals to render within your Jupyter Notebook.\n",
    "%matplotlib inline"
   ]
  },
  {
   "cell_type": "markdown",
   "id": "e395e8bf-b530-4720-8d0f-26811e927d6e",
   "metadata": {},
   "source": [
    "## Loading the data\n",
    "We can now load the dataset into pandas using the read_csv() function. This converts the CSV file into a Pandas dataframe."
   ]
  },
  {
   "cell_type": "code",
   "execution_count": 142,
   "id": "cf4030b0-aa7f-4bd7-8e9c-c1b7f4d202d0",
   "metadata": {},
   "outputs": [],
   "source": [
    "train_df = pd.read_csv('Data/train.csv')\n",
    "test_df = pd.read_csv('Data/test.csv')"
   ]
  },
  {
   "cell_type": "markdown",
   "id": "ca5ed983-0f72-43eb-8168-6fafd48c562e",
   "metadata": {},
   "source": [
    "### Viewing the dataframe\n",
    "We can get a quick sense of the size of our dataset by using the shape method. This returns a tuple with the number of rows and columns in the dataset."
   ]
  },
  {
   "cell_type": "code",
   "execution_count": 222,
   "id": "4420b035-2c56-4f5b-8c18-f6c0893731cb",
   "metadata": {},
   "outputs": [
    {
     "data": {
      "text/html": [
       "\n",
       "        <iframe\n",
       "            width=\"100%\"\n",
       "            height=\"475\"\n",
       "            src=\"http://LAPTOP-8L6R58JJ:40000/dtale/iframe/5\"\n",
       "            frameborder=\"0\"\n",
       "            allowfullscreen\n",
       "            \n",
       "        ></iframe>\n",
       "        "
      ],
      "text/plain": [
       "<IPython.lib.display.IFrame at 0x1db7d7c00e0>"
      ]
     },
     "metadata": {},
     "output_type": "display_data"
    },
    {
     "data": {
      "text/plain": []
     },
     "execution_count": 222,
     "metadata": {},
     "output_type": "execute_result"
    }
   ],
   "source": [
    "train_df_report=dtale.show(train_df)\n",
    "train_df_report"
   ]
  },
  {
   "cell_type": "markdown",
   "id": "bd2b5bc4-db37-4432-b666-0714afd0c4ca",
   "metadata": {},
   "source": [
    "## 1. Data Profiling:\n",
    "Data profiling is a comprehensive process of examining the data available in an existing dataset and collecting statistics and information about that data. "
   ]
  },
  {
   "cell_type": "code",
   "execution_count": 228,
   "id": "0cff8453-fc92-405b-a65a-721ba062673b",
   "metadata": {},
   "outputs": [
    {
     "name": "stdout",
     "output_type": "stream",
     "text": [
      "<class 'pandas.core.frame.DataFrame'>\n",
      "RangeIndex: 1459 entries, 0 to 1458\n",
      "Data columns (total 80 columns):\n",
      " #   Column         Non-Null Count  Dtype  \n",
      "---  ------         --------------  -----  \n",
      " 0   Id             1459 non-null   int64  \n",
      " 1   MSSubClass     1459 non-null   int64  \n",
      " 2   MSZoning       1455 non-null   object \n",
      " 3   LotFrontage    1232 non-null   float64\n",
      " 4   LotArea        1459 non-null   int64  \n",
      " 5   Street         1459 non-null   object \n",
      " 6   Alley          107 non-null    object \n",
      " 7   LotShape       1459 non-null   object \n",
      " 8   LandContour    1459 non-null   object \n",
      " 9   Utilities      1457 non-null   object \n",
      " 10  LotConfig      1459 non-null   object \n",
      " 11  LandSlope      1459 non-null   object \n",
      " 12  Neighborhood   1459 non-null   object \n",
      " 13  Condition1     1459 non-null   object \n",
      " 14  Condition2     1459 non-null   object \n",
      " 15  BldgType       1459 non-null   object \n",
      " 16  HouseStyle     1459 non-null   object \n",
      " 17  OverallQual    1459 non-null   int64  \n",
      " 18  OverallCond    1459 non-null   int64  \n",
      " 19  YearBuilt      1459 non-null   int64  \n",
      " 20  YearRemodAdd   1459 non-null   int64  \n",
      " 21  RoofStyle      1459 non-null   object \n",
      " 22  RoofMatl       1459 non-null   object \n",
      " 23  Exterior1st    1458 non-null   object \n",
      " 24  Exterior2nd    1458 non-null   object \n",
      " 25  MasVnrType     565 non-null    object \n",
      " 26  MasVnrArea     1444 non-null   float64\n",
      " 27  ExterQual      1459 non-null   object \n",
      " 28  ExterCond      1459 non-null   object \n",
      " 29  Foundation     1459 non-null   object \n",
      " 30  BsmtQual       1415 non-null   object \n",
      " 31  BsmtCond       1414 non-null   object \n",
      " 32  BsmtExposure   1415 non-null   object \n",
      " 33  BsmtFinType1   1417 non-null   object \n",
      " 34  BsmtFinSF1     1458 non-null   float64\n",
      " 35  BsmtFinType2   1417 non-null   object \n",
      " 36  BsmtFinSF2     1458 non-null   float64\n",
      " 37  BsmtUnfSF      1458 non-null   float64\n",
      " 38  TotalBsmtSF    1458 non-null   float64\n",
      " 39  Heating        1459 non-null   object \n",
      " 40  HeatingQC      1459 non-null   object \n",
      " 41  CentralAir     1459 non-null   object \n",
      " 42  Electrical     1459 non-null   object \n",
      " 43  1stFlrSF       1459 non-null   int64  \n",
      " 44  2ndFlrSF       1459 non-null   int64  \n",
      " 45  LowQualFinSF   1459 non-null   int64  \n",
      " 46  GrLivArea      1459 non-null   int64  \n",
      " 47  BsmtFullBath   1457 non-null   float64\n",
      " 48  BsmtHalfBath   1457 non-null   float64\n",
      " 49  FullBath       1459 non-null   int64  \n",
      " 50  HalfBath       1459 non-null   int64  \n",
      " 51  BedroomAbvGr   1459 non-null   int64  \n",
      " 52  KitchenAbvGr   1459 non-null   int64  \n",
      " 53  KitchenQual    1458 non-null   object \n",
      " 54  TotRmsAbvGrd   1459 non-null   int64  \n",
      " 55  Functional     1457 non-null   object \n",
      " 56  Fireplaces     1459 non-null   int64  \n",
      " 57  FireplaceQu    729 non-null    object \n",
      " 58  GarageType     1383 non-null   object \n",
      " 59  GarageYrBlt    1381 non-null   float64\n",
      " 60  GarageFinish   1381 non-null   object \n",
      " 61  GarageCars     1458 non-null   float64\n",
      " 62  GarageArea     1458 non-null   float64\n",
      " 63  GarageQual     1381 non-null   object \n",
      " 64  GarageCond     1381 non-null   object \n",
      " 65  PavedDrive     1459 non-null   object \n",
      " 66  WoodDeckSF     1459 non-null   int64  \n",
      " 67  OpenPorchSF    1459 non-null   int64  \n",
      " 68  EnclosedPorch  1459 non-null   int64  \n",
      " 69  3SsnPorch      1459 non-null   int64  \n",
      " 70  ScreenPorch    1459 non-null   int64  \n",
      " 71  PoolArea       1459 non-null   int64  \n",
      " 72  PoolQC         3 non-null      object \n",
      " 73  Fence          290 non-null    object \n",
      " 74  MiscFeature    51 non-null     object \n",
      " 75  MiscVal        1459 non-null   int64  \n",
      " 76  MoSold         1459 non-null   int64  \n",
      " 77  YrSold         1459 non-null   int64  \n",
      " 78  SaleType       1458 non-null   object \n",
      " 79  SaleCondition  1459 non-null   object \n",
      "dtypes: float64(11), int64(26), object(43)\n",
      "memory usage: 912.0+ KB\n"
     ]
    }
   ],
   "source": [
    "test_df.info()"
   ]
  },
  {
   "cell_type": "code",
   "execution_count": 146,
   "id": "766dd160-c737-4d40-abe0-369c0ddbed5a",
   "metadata": {},
   "outputs": [
    {
     "name": "stdout",
     "output_type": "stream",
     "text": [
      "<class 'pandas.core.frame.DataFrame'>\n",
      "RangeIndex: 1460 entries, 0 to 1459\n",
      "Data columns (total 81 columns):\n",
      " #   Column         Non-Null Count  Dtype  \n",
      "---  ------         --------------  -----  \n",
      " 0   Id             1460 non-null   int64  \n",
      " 1   MSSubClass     1460 non-null   int64  \n",
      " 2   MSZoning       1460 non-null   object \n",
      " 3   LotFrontage    1201 non-null   float64\n",
      " 4   LotArea        1460 non-null   int64  \n",
      " 5   Street         1460 non-null   object \n",
      " 6   Alley          91 non-null     object \n",
      " 7   LotShape       1460 non-null   object \n",
      " 8   LandContour    1460 non-null   object \n",
      " 9   Utilities      1460 non-null   object \n",
      " 10  LotConfig      1460 non-null   object \n",
      " 11  LandSlope      1460 non-null   object \n",
      " 12  Neighborhood   1460 non-null   object \n",
      " 13  Condition1     1460 non-null   object \n",
      " 14  Condition2     1460 non-null   object \n",
      " 15  BldgType       1460 non-null   object \n",
      " 16  HouseStyle     1460 non-null   object \n",
      " 17  OverallQual    1460 non-null   int64  \n",
      " 18  OverallCond    1460 non-null   int64  \n",
      " 19  YearBuilt      1460 non-null   int64  \n",
      " 20  YearRemodAdd   1460 non-null   int64  \n",
      " 21  RoofStyle      1460 non-null   object \n",
      " 22  RoofMatl       1460 non-null   object \n",
      " 23  Exterior1st    1460 non-null   object \n",
      " 24  Exterior2nd    1460 non-null   object \n",
      " 25  MasVnrType     588 non-null    object \n",
      " 26  MasVnrArea     1452 non-null   float64\n",
      " 27  ExterQual      1460 non-null   object \n",
      " 28  ExterCond      1460 non-null   object \n",
      " 29  Foundation     1460 non-null   object \n",
      " 30  BsmtQual       1423 non-null   object \n",
      " 31  BsmtCond       1423 non-null   object \n",
      " 32  BsmtExposure   1422 non-null   object \n",
      " 33  BsmtFinType1   1423 non-null   object \n",
      " 34  BsmtFinSF1     1460 non-null   int64  \n",
      " 35  BsmtFinType2   1422 non-null   object \n",
      " 36  BsmtFinSF2     1460 non-null   int64  \n",
      " 37  BsmtUnfSF      1460 non-null   int64  \n",
      " 38  TotalBsmtSF    1460 non-null   int64  \n",
      " 39  Heating        1460 non-null   object \n",
      " 40  HeatingQC      1460 non-null   object \n",
      " 41  CentralAir     1460 non-null   object \n",
      " 42  Electrical     1459 non-null   object \n",
      " 43  1stFlrSF       1460 non-null   int64  \n",
      " 44  2ndFlrSF       1460 non-null   int64  \n",
      " 45  LowQualFinSF   1460 non-null   int64  \n",
      " 46  GrLivArea      1460 non-null   int64  \n",
      " 47  BsmtFullBath   1460 non-null   int64  \n",
      " 48  BsmtHalfBath   1460 non-null   int64  \n",
      " 49  FullBath       1460 non-null   int64  \n",
      " 50  HalfBath       1460 non-null   int64  \n",
      " 51  BedroomAbvGr   1460 non-null   int64  \n",
      " 52  KitchenAbvGr   1460 non-null   int64  \n",
      " 53  KitchenQual    1460 non-null   object \n",
      " 54  TotRmsAbvGrd   1460 non-null   int64  \n",
      " 55  Functional     1460 non-null   object \n",
      " 56  Fireplaces     1460 non-null   int64  \n",
      " 57  FireplaceQu    770 non-null    object \n",
      " 58  GarageType     1379 non-null   object \n",
      " 59  GarageYrBlt    1379 non-null   float64\n",
      " 60  GarageFinish   1379 non-null   object \n",
      " 61  GarageCars     1460 non-null   int64  \n",
      " 62  GarageArea     1460 non-null   int64  \n",
      " 63  GarageQual     1379 non-null   object \n",
      " 64  GarageCond     1379 non-null   object \n",
      " 65  PavedDrive     1460 non-null   object \n",
      " 66  WoodDeckSF     1460 non-null   int64  \n",
      " 67  OpenPorchSF    1460 non-null   int64  \n",
      " 68  EnclosedPorch  1460 non-null   int64  \n",
      " 69  3SsnPorch      1460 non-null   int64  \n",
      " 70  ScreenPorch    1460 non-null   int64  \n",
      " 71  PoolArea       1460 non-null   int64  \n",
      " 72  PoolQC         7 non-null      object \n",
      " 73  Fence          281 non-null    object \n",
      " 74  MiscFeature    54 non-null     object \n",
      " 75  MiscVal        1460 non-null   int64  \n",
      " 76  MoSold         1460 non-null   int64  \n",
      " 77  YrSold         1460 non-null   int64  \n",
      " 78  SaleType       1460 non-null   object \n",
      " 79  SaleCondition  1460 non-null   object \n",
      " 80  SalePrice      1460 non-null   int64  \n",
      "dtypes: float64(3), int64(35), object(43)\n",
      "memory usage: 924.0+ KB\n"
     ]
    }
   ],
   "source": [
    "train_df.info()"
   ]
  },
  {
   "cell_type": "markdown",
   "id": "4818c876-173d-4e56-9e7d-b4334d2def25",
   "metadata": {},
   "source": [
    "#### 1. Reliability:\n",
    "Evaluate the data's source and collection process to determine its trustworthiness."
   ]
  },
  {
   "cell_type": "raw",
   "id": "a17736b8-1bd0-40d1-8aa2-7a782823108d",
   "metadata": {},
   "source": [
    " The data was sourced from Kaggle House Prices - Advanced Regression Techniques\n",
    " https://www.kaggle.com/competitions/house-prices-advanced-regression-techniques/overview\n",
    "Citation:\n",
    "@misc{house-prices-advanced-regression-techniques,\n",
    "    author = {Anna Montoya and DataCanary},\n",
    "    title = {House Prices - Advanced Regression Techniques},\n",
    "     year = {2016},\n",
    "   howpublished = {\\url{https://kaggle.com/competitions/house-prices-advanced-regression-techniques}},\n",
    "     note = {Kaggle}\n",
    "}\n",
    "\n"
   ]
  },
  {
   "cell_type": "markdown",
   "id": "2ce0cc59-8c92-4acc-8d07-c40764e1a86b",
   "metadata": {},
   "source": [
    "#### 2. Timeliness: \n",
    "Ensure the data is up-to-date and reflective of the current situation or the period of interest for the analysis."
   ]
  },
  {
   "cell_type": "raw",
   "id": "cccd0bb4-e28f-4799-9aac-464887183087",
   "metadata": {},
   "source": [
    "The data was collected in 2016 and it goes with the time period as asked"
   ]
  },
  {
   "cell_type": "markdown",
   "id": "7fab0fe2-6624-4615-b9d8-3c3669056bf8",
   "metadata": {},
   "source": [
    "#### 3. Consistency: \n",
    "\n",
    "Confirm that the data is consistent within the dataset and across multiple data sources. For example, the same data point should not have different values in different places.\n"
   ]
  },
  {
   "cell_type": "raw",
   "id": "327c845b-750d-406a-8db0-c8d8383dafd6",
   "metadata": {},
   "source": [
    "Use of single dataset guarntees consistency"
   ]
  },
  {
   "cell_type": "markdown",
   "id": "bec3d183-bba0-4b12-b963-487daab1e876",
   "metadata": {},
   "source": [
    "#### 4. Relevance: \n",
    "Assess whether the data is appropriate and applicable for the intended analysis. Data that is not relevant can skew results and lead to incorrect conclusions.\n",
    "\n",
    "**Key considerations for relevance include:**\n",
    "\n",
    "> 1. Sample Appropriateness: Confirm that your data sample aligns with your analysis objectives. For instance, utilizing data from the Northern region will not yield accurate insights for the Western region of the Kingdom.\n",
    ">\n",
    "> 2. Variable Selection: Any column will not be relevant for our analysis, we can get rid of these using the drop() method. We will set the “axis” argument to 1 since we’re dealing with columns, and set the “inplace” argument to True to make the change permanent.\n"
   ]
  },
  {
   "cell_type": "raw",
   "id": "ff3e96ac-d2de-4f51-8134-a2c73db211ab",
   "metadata": {
    "scrolled": true
   },
   "source": [
    "Sample Appropriateness: \"Based on the data characteristics, the sample is appropriate for this analysis.\"\n",
    "Variable Selection: \"The needed variables are relevant to the analysis, and irrelevant ones may be removed such as 'Alley','PoolQC',\n",
    "       'Fence', 'MiscFeature'\""
   ]
  },
  {
   "cell_type": "code",
   "execution_count": 151,
   "id": "c48afc39-0e39-472a-8500-398873ae7994",
   "metadata": {},
   "outputs": [
    {
     "data": {
      "text/plain": [
       "Index(['Id', 'MSSubClass', 'MSZoning', 'LotFrontage', 'LotArea', 'Street',\n",
       "       'Alley', 'LotShape', 'LandContour', 'Utilities', 'LotConfig',\n",
       "       'LandSlope', 'Neighborhood', 'Condition1', 'Condition2', 'BldgType',\n",
       "       'HouseStyle', 'OverallQual', 'OverallCond', 'YearBuilt', 'YearRemodAdd',\n",
       "       'RoofStyle', 'RoofMatl', 'Exterior1st', 'Exterior2nd', 'MasVnrType',\n",
       "       'MasVnrArea', 'ExterQual', 'ExterCond', 'Foundation', 'BsmtQual',\n",
       "       'BsmtCond', 'BsmtExposure', 'BsmtFinType1', 'BsmtFinSF1',\n",
       "       'BsmtFinType2', 'BsmtFinSF2', 'BsmtUnfSF', 'TotalBsmtSF', 'Heating',\n",
       "       'HeatingQC', 'CentralAir', 'Electrical', '1stFlrSF', '2ndFlrSF',\n",
       "       'LowQualFinSF', 'GrLivArea', 'BsmtFullBath', 'BsmtHalfBath', 'FullBath',\n",
       "       'HalfBath', 'BedroomAbvGr', 'KitchenAbvGr', 'KitchenQual',\n",
       "       'TotRmsAbvGrd', 'Functional', 'Fireplaces', 'FireplaceQu', 'GarageType',\n",
       "       'GarageYrBlt', 'GarageFinish', 'GarageCars', 'GarageArea', 'GarageQual',\n",
       "       'GarageCond', 'PavedDrive', 'WoodDeckSF', 'OpenPorchSF',\n",
       "       'EnclosedPorch', '3SsnPorch', 'ScreenPorch', 'PoolArea', 'PoolQC',\n",
       "       'Fence', 'MiscFeature', 'MiscVal', 'MoSold', 'YrSold', 'SaleType',\n",
       "       'SaleCondition', 'SalePrice'],\n",
       "      dtype='object')"
      ]
     },
     "execution_count": 151,
     "metadata": {},
     "output_type": "execute_result"
    }
   ],
   "source": [
    "train_df.columns"
   ]
  },
  {
   "cell_type": "markdown",
   "id": "0f5e3a2a-bbb7-4d06-8220-c93277b70146",
   "metadata": {},
   "source": [
    "#### 5. Uniqueness: \n",
    "Check for and remove duplicate records to prevent skewed analysis results.\n"
   ]
  },
  {
   "cell_type": "code",
   "execution_count": 153,
   "id": "a509a7aa-58f4-4d39-8eb8-e8298a21f2a7",
   "metadata": {},
   "outputs": [
    {
     "data": {
      "text/plain": [
       "0"
      ]
     },
     "execution_count": 153,
     "metadata": {},
     "output_type": "execute_result"
    }
   ],
   "source": [
    "# Without Id to avoid unique rows caused by it\n",
    "selectedCol=['MSSubClass', 'MSZoning', 'LotFrontage', 'LotArea', 'Street',\n",
    "       'Alley', 'LotShape', 'LandContour', 'Utilities', 'LotConfig',\n",
    "       'LandSlope', 'Neighborhood', 'Condition1', 'Condition2', 'BldgType',\n",
    "       'HouseStyle', 'OverallQual', 'OverallCond', 'YearBuilt', 'YearRemodAdd',\n",
    "       'RoofStyle', 'RoofMatl', 'Exterior1st', 'Exterior2nd', 'MasVnrType',\n",
    "       'MasVnrArea', 'ExterQual', 'ExterCond', 'Foundation', 'BsmtQual',\n",
    "       'BsmtCond', 'BsmtExposure', 'BsmtFinType1', 'BsmtFinSF1',\n",
    "       'BsmtFinType2', 'BsmtFinSF2', 'BsmtUnfSF', 'TotalBsmtSF', 'Heating',\n",
    "       'HeatingQC', 'CentralAir', 'Electrical', '1stFlrSF', '2ndFlrSF',\n",
    "       'LowQualFinSF', 'GrLivArea', 'BsmtFullBath', 'BsmtHalfBath', 'FullBath',\n",
    "       'HalfBath', 'BedroomAbvGr', 'KitchenAbvGr', 'KitchenQual',\n",
    "       'TotRmsAbvGrd', 'Functional', 'Fireplaces', 'FireplaceQu', 'GarageType',\n",
    "       'GarageYrBlt', 'GarageFinish', 'GarageCars', 'GarageArea', 'GarageQual',\n",
    "       'GarageCond', 'PavedDrive', 'WoodDeckSF', 'OpenPorchSF',\n",
    "       'EnclosedPorch', '3SsnPorch', 'ScreenPorch', 'PoolArea', 'PoolQC',\n",
    "       'Fence', 'MiscFeature', 'MiscVal', 'MoSold', 'YrSold', 'SaleType',\n",
    "       'SaleCondition', 'SalePrice']\n",
    "dups= train_df[(selectedCol)]\n",
    "dups.duplicated().sum()"
   ]
  },
  {
   "cell_type": "markdown",
   "id": "c7724ac2-4ea2-4cf4-a9e0-e64368f87b92",
   "metadata": {},
   "source": [
    "#### 6. Completeness: \n",
    "Ensure that no critical data is missing. This might mean checking for null values or required fields that are empty.\n",
    "\n",
    "We will start by checking the dataset for missing or null values. For this, we can use the isna() method which returns a dataframe of boolean values indicating if a field is null or not. To group all missing values by column, we can include the sum() method."
   ]
  },
  {
   "cell_type": "code",
   "execution_count": 232,
   "id": "77e5a4f1-8c58-4cf3-bbd6-33c3457fa14e",
   "metadata": {},
   "outputs": [
    {
     "data": {
      "text/plain": [
       "MSZoning           4\n",
       "LotFrontage      227\n",
       "Alley           1352\n",
       "Utilities          2\n",
       "Exterior1st        1\n",
       "Exterior2nd        1\n",
       "MasVnrType       894\n",
       "MasVnrArea        15\n",
       "BsmtQual          44\n",
       "BsmtCond          45\n",
       "BsmtExposure      44\n",
       "BsmtFinType1      42\n",
       "BsmtFinSF1         1\n",
       "BsmtFinType2      42\n",
       "BsmtFinSF2         1\n",
       "BsmtUnfSF          1\n",
       "TotalBsmtSF        1\n",
       "BsmtFullBath       2\n",
       "BsmtHalfBath       2\n",
       "KitchenQual        1\n",
       "Functional         2\n",
       "FireplaceQu      730\n",
       "GarageType        76\n",
       "GarageYrBlt       78\n",
       "GarageFinish      78\n",
       "GarageCars         1\n",
       "GarageArea         1\n",
       "GarageQual        78\n",
       "GarageCond        78\n",
       "PoolQC          1456\n",
       "Fence           1169\n",
       "MiscFeature     1408\n",
       "SaleType           1\n",
       "dtype: int64"
      ]
     },
     "execution_count": 232,
     "metadata": {},
     "output_type": "execute_result"
    }
   ],
   "source": [
    "test_df.isnull().sum()[test_df.isnull().sum() > 0]"
   ]
  },
  {
   "cell_type": "code",
   "execution_count": 155,
   "id": "48a4de54-a344-4b94-9908-9528c15c13f7",
   "metadata": {},
   "outputs": [
    {
     "data": {
      "text/plain": [
       "LotFrontage      259\n",
       "Alley           1369\n",
       "MasVnrType       872\n",
       "MasVnrArea         8\n",
       "BsmtQual          37\n",
       "BsmtCond          37\n",
       "BsmtExposure      38\n",
       "BsmtFinType1      37\n",
       "BsmtFinType2      38\n",
       "Electrical         1\n",
       "FireplaceQu      690\n",
       "GarageType        81\n",
       "GarageYrBlt       81\n",
       "GarageFinish      81\n",
       "GarageQual        81\n",
       "GarageCond        81\n",
       "PoolQC          1453\n",
       "Fence           1179\n",
       "MiscFeature     1406\n",
       "dtype: int64"
      ]
     },
     "execution_count": 155,
     "metadata": {},
     "output_type": "execute_result"
    }
   ],
   "source": [
    "train_df.isnull().sum()[train_df.isnull().sum() > 0]"
   ]
  },
  {
   "cell_type": "raw",
   "id": "61e0e157-3898-418e-a337-f94a2149ee9d",
   "metadata": {},
   "source": [
    "There are columns that have more than 50% of the data equaling null so it should be deleted.\n",
    "Some columns don't have any null value but it depends on other columns that have ones so it got filled with zeros and it will cause outliers and misleading results."
   ]
  },
  {
   "cell_type": "code",
   "execution_count": 156,
   "id": "abec31c4-0904-4b73-8cee-b7bc14ab1e67",
   "metadata": {},
   "outputs": [],
   "source": [
    "# go to clean them "
   ]
  },
  {
   "cell_type": "markdown",
   "id": "b40de63c-5a1d-49ed-a87e-c5229ee08bbe",
   "metadata": {},
   "source": [
    "#### 7. Check Accuracy:\n",
    "\n",
    "Verify that the data is correct and precise. This could involve comparing data samples with known sources or using validation rules.\n",
    "\n",
    "**The process includes:**\n",
    "1. Validating the appropriateness of data types for the dataset.\n",
    "2. Identifying outliers  using established validation  rule"
   ]
  },
  {
   "cell_type": "code",
   "execution_count": 246,
   "id": "ba895b8d-9f82-41aa-bd05-a4850c339f06",
   "metadata": {},
   "outputs": [
    {
     "name": "stdout",
     "output_type": "stream",
     "text": [
      "<class 'pandas.core.frame.DataFrame'>\n",
      "Index: 1458 entries, 0 to 1459\n",
      "Data columns (total 73 columns):\n",
      " #   Column         Non-Null Count  Dtype  \n",
      "---  ------         --------------  -----  \n",
      " 0   Id             1458 non-null   int64  \n",
      " 1   MSSubClass     1458 non-null   int64  \n",
      " 2   MSZoning       1458 non-null   object \n",
      " 3   LotFrontage    1458 non-null   float64\n",
      " 4   LotArea        1458 non-null   int64  \n",
      " 5   Street         1458 non-null   object \n",
      " 6   LotShape       1458 non-null   object \n",
      " 7   LandContour    1458 non-null   object \n",
      " 8   Utilities      1458 non-null   object \n",
      " 9   LotConfig      1458 non-null   object \n",
      " 10  LandSlope      1458 non-null   object \n",
      " 11  Neighborhood   1458 non-null   object \n",
      " 12  Condition1     1458 non-null   object \n",
      " 13  Condition2     1458 non-null   object \n",
      " 14  BldgType       1458 non-null   object \n",
      " 15  HouseStyle     1458 non-null   object \n",
      " 16  OverallQual    1458 non-null   int64  \n",
      " 17  OverallCond    1458 non-null   int64  \n",
      " 18  YearBuilt      1458 non-null   int64  \n",
      " 19  YearRemodAdd   1458 non-null   int64  \n",
      " 20  RoofStyle      1458 non-null   object \n",
      " 21  RoofMatl       1458 non-null   object \n",
      " 22  Exterior1st    1458 non-null   object \n",
      " 23  Exterior2nd    1458 non-null   object \n",
      " 24  ExterQual      1458 non-null   object \n",
      " 25  ExterCond      1458 non-null   object \n",
      " 26  Foundation     1458 non-null   object \n",
      " 27  BsmtQual       1458 non-null   object \n",
      " 28  BsmtCond       1458 non-null   object \n",
      " 29  BsmtExposure   1458 non-null   object \n",
      " 30  BsmtFinType1   1458 non-null   object \n",
      " 31  BsmtFinSF1     1458 non-null   int64  \n",
      " 32  BsmtFinType2   1458 non-null   object \n",
      " 33  BsmtFinSF2     1458 non-null   int64  \n",
      " 34  BsmtUnfSF      1458 non-null   int64  \n",
      " 35  TotalBsmtSF    1458 non-null   int64  \n",
      " 36  Heating        1458 non-null   object \n",
      " 37  HeatingQC      1458 non-null   object \n",
      " 38  CentralAir     1458 non-null   object \n",
      " 39  Electrical     1458 non-null   object \n",
      " 40  1stFlrSF       1458 non-null   int64  \n",
      " 41  2ndFlrSF       1458 non-null   int64  \n",
      " 42  LowQualFinSF   1458 non-null   int64  \n",
      " 43  GrLivArea      1458 non-null   int64  \n",
      " 44  BsmtFullBath   1458 non-null   int64  \n",
      " 45  BsmtHalfBath   1458 non-null   int64  \n",
      " 46  FullBath       1458 non-null   int64  \n",
      " 47  HalfBath       1458 non-null   int64  \n",
      " 48  BedroomAbvGr   1458 non-null   int64  \n",
      " 49  KitchenAbvGr   1458 non-null   int64  \n",
      " 50  KitchenQual    1458 non-null   object \n",
      " 51  TotRmsAbvGrd   1458 non-null   int64  \n",
      " 52  Functional     1458 non-null   object \n",
      " 53  Fireplaces     1458 non-null   int64  \n",
      " 54  FireplaceQu    1458 non-null   object \n",
      " 55  GarageType     1458 non-null   object \n",
      " 56  GarageYrBlt    1458 non-null   float64\n",
      " 57  GarageFinish   1458 non-null   object \n",
      " 58  GarageCars     1458 non-null   int64  \n",
      " 59  GarageArea     1458 non-null   int64  \n",
      " 60  GarageQual     1458 non-null   object \n",
      " 61  GarageCond     1458 non-null   object \n",
      " 62  PavedDrive     1458 non-null   object \n",
      " 63  WoodDeckSF     1458 non-null   int64  \n",
      " 64  OpenPorchSF    1458 non-null   int64  \n",
      " 65  EnclosedPorch  1458 non-null   int64  \n",
      " 66  3SsnPorch      1458 non-null   int64  \n",
      " 67  ScreenPorch    1458 non-null   int64  \n",
      " 68  MoSold         1458 non-null   int64  \n",
      " 69  YrSold         1458 non-null   int64  \n",
      " 70  SaleType       1458 non-null   object \n",
      " 71  SaleCondition  1458 non-null   object \n",
      " 72  SalePrice      1458 non-null   int64  \n",
      "dtypes: float64(2), int64(33), object(38)\n",
      "memory usage: 842.9+ KB\n"
     ]
    }
   ],
   "source": [
    "train_df.info()"
   ]
  },
  {
   "cell_type": "code",
   "execution_count": 158,
   "id": "2ee790ba-dcc0-45f1-b6f8-0133e913e149",
   "metadata": {},
   "outputs": [],
   "source": [
    "# go to clean them "
   ]
  },
  {
   "cell_type": "code",
   "execution_count": 159,
   "id": "c69b303a-5459-45f9-a28e-fcee45c21c05",
   "metadata": {},
   "outputs": [],
   "source": [
    "# check outliers "
   ]
  },
  {
   "attachments": {},
   "cell_type": "markdown",
   "id": "4e886ec7-388c-414b-ada7-803c2fb1f2cb",
   "metadata": {},
   "source": [
    "## 2. Data Cleaning: \n",
    "\n",
    "Preliminary findings from data profiling can lead to cleaning the data by:\n",
    "- Handling missing values\n",
    "- Correcting errors.\n",
    "- Dealing with outliers.\n",
    "\n",
    "-------------------\n",
    "\n"
   ]
  },
  {
   "cell_type": "markdown",
   "id": "21876b48-f5ec-4970-85a9-0520d45d8841",
   "metadata": {
    "jp-MarkdownHeadingCollapsed": true
   },
   "source": [
    "### Handling missing values:"
   ]
  },
  {
   "cell_type": "code",
   "execution_count": 162,
   "id": "3dfc949e-d3b8-4c13-aa48-89ae0df45732",
   "metadata": {},
   "outputs": [
    {
     "data": {
      "text/plain": [
       "Index(['Id', 'MSSubClass', 'MSZoning', 'LotFrontage', 'LotArea', 'Street',\n",
       "       'Alley', 'LotShape', 'LandContour', 'Utilities', 'LotConfig',\n",
       "       'LandSlope', 'Neighborhood', 'Condition1', 'Condition2', 'BldgType',\n",
       "       'HouseStyle', 'OverallQual', 'OverallCond', 'YearBuilt', 'YearRemodAdd',\n",
       "       'RoofStyle', 'RoofMatl', 'Exterior1st', 'Exterior2nd', 'MasVnrType',\n",
       "       'MasVnrArea', 'ExterQual', 'ExterCond', 'Foundation', 'BsmtQual',\n",
       "       'BsmtCond', 'BsmtExposure', 'BsmtFinType1', 'BsmtFinSF1',\n",
       "       'BsmtFinType2', 'BsmtFinSF2', 'BsmtUnfSF', 'TotalBsmtSF', 'Heating',\n",
       "       'HeatingQC', 'CentralAir', 'Electrical', '1stFlrSF', '2ndFlrSF',\n",
       "       'LowQualFinSF', 'GrLivArea', 'BsmtFullBath', 'BsmtHalfBath', 'FullBath',\n",
       "       'HalfBath', 'BedroomAbvGr', 'KitchenAbvGr', 'KitchenQual',\n",
       "       'TotRmsAbvGrd', 'Functional', 'Fireplaces', 'FireplaceQu', 'GarageType',\n",
       "       'GarageYrBlt', 'GarageFinish', 'GarageCars', 'GarageArea', 'GarageQual',\n",
       "       'GarageCond', 'PavedDrive', 'WoodDeckSF', 'OpenPorchSF',\n",
       "       'EnclosedPorch', '3SsnPorch', 'ScreenPorch', 'PoolArea', 'PoolQC',\n",
       "       'Fence', 'MiscFeature', 'MiscVal', 'MoSold', 'YrSold', 'SaleType',\n",
       "       'SaleCondition', 'SalePrice'],\n",
       "      dtype='object')"
      ]
     },
     "execution_count": 162,
     "metadata": {},
     "output_type": "execute_result"
    }
   ],
   "source": [
    "train_df.columns"
   ]
  },
  {
   "cell_type": "code",
   "execution_count": 163,
   "id": "7c5a079e-f519-418b-a7e0-ce8abd8a3574",
   "metadata": {},
   "outputs": [],
   "source": [
    "train_df = train_df.drop(['Alley', 'MasVnrType', 'MasVnrArea', 'PoolArea', \n",
    "                          'PoolQC', 'Fence', 'MiscFeature', 'MiscVal'], axis=1)"
   ]
  },
  {
   "cell_type": "code",
   "execution_count": 164,
   "id": "9622833f-9938-43b3-aa79-20d79b5bb672",
   "metadata": {},
   "outputs": [
    {
     "data": {
      "text/plain": [
       "(1460, 73)"
      ]
     },
     "execution_count": 164,
     "metadata": {},
     "output_type": "execute_result"
    }
   ],
   "source": [
    "train_df.shape"
   ]
  },
  {
   "cell_type": "code",
   "execution_count": 165,
   "id": "a360ffd8-ddcc-4184-b0a7-5ecaaaee502d",
   "metadata": {},
   "outputs": [
    {
     "data": {
      "text/plain": [
       "LotFrontage     259\n",
       "BsmtQual         37\n",
       "BsmtCond         37\n",
       "BsmtExposure     38\n",
       "BsmtFinType1     37\n",
       "BsmtFinType2     38\n",
       "Electrical        1\n",
       "FireplaceQu     690\n",
       "GarageType       81\n",
       "GarageYrBlt      81\n",
       "GarageFinish     81\n",
       "GarageQual       81\n",
       "GarageCond       81\n",
       "dtype: int64"
      ]
     },
     "execution_count": 165,
     "metadata": {},
     "output_type": "execute_result"
    }
   ],
   "source": [
    "train_df.isnull().sum()[train_df.isnull().sum() > 0]"
   ]
  },
  {
   "cell_type": "code",
   "execution_count": 166,
   "id": "76e0decc-1120-4b60-b468-b8892fb49822",
   "metadata": {},
   "outputs": [],
   "source": [
    "# Filling null values in lotFrontagewith the median of each category in lotConfig\n",
    "train_df['LotFrontage'] = train_df.groupby('LotConfig')['LotFrontage'].transform(lambda x: x.fillna(x.median()))\n"
   ]
  },
  {
   "cell_type": "code",
   "execution_count": 234,
   "id": "87f60f36-affc-4e1f-9005-4acefbdd1769",
   "metadata": {},
   "outputs": [],
   "source": [
    "test_df['LotFrontage'] = test_df.groupby('LotConfig')['LotFrontage'].transform(lambda x: x.fillna(x.median()))"
   ]
  },
  {
   "cell_type": "code",
   "execution_count": 167,
   "id": "3a6466fc-f78e-4127-b793-4f8a66bd6477",
   "metadata": {},
   "outputs": [],
   "source": [
    "# The null values in FireplaceQu column == the 0 values in Fireplace so it means no rating for the 0 values\n",
    "# We will fill it with 'NO_FirePlace' \n",
    "train_df['FireplaceQu'] = train_df['FireplaceQu'].fillna('NO_FirePlace')"
   ]
  },
  {
   "cell_type": "code",
   "execution_count": 236,
   "id": "2938a18c-3895-40d8-b775-914d03ec9b25",
   "metadata": {},
   "outputs": [],
   "source": [
    "test_df['FireplaceQu'] = test_df['FireplaceQu'].fillna('NO_FirePlace')"
   ]
  },
  {
   "cell_type": "code",
   "execution_count": 188,
   "id": "f1c7d3e0-4a30-4ca8-bebb-dee651131bee",
   "metadata": {},
   "outputs": [],
   "source": [
    "# List of basement-related columns to fill\n",
    "bsmt_cols = ['BsmtQual', 'BsmtCond', 'BsmtExposure', 'BsmtFinType1', 'BsmtFinType2']\n",
    "\n",
    "# Identify rows where both BsmtFinType2 and BsmtExposure are null\n",
    "condition = train_df['BsmtFinType2'].isna() & train_df['BsmtExposure'].isna()\n",
    "\n",
    "# Fill only those rows with 'NA' in the specified columns\n",
    "train_df.loc[condition, bsmt_cols] = train_df.loc[condition, bsmt_cols].fillna('NA')"
   ]
  },
  {
   "cell_type": "code",
   "execution_count": 238,
   "id": "3c181faf-0883-4038-9a1f-f82b700425fa",
   "metadata": {},
   "outputs": [],
   "source": [
    "# List of basement-related columns to fill\n",
    "bsmt_cols = ['BsmtQual', 'BsmtCond', 'BsmtExposure', 'BsmtFinType1', 'BsmtFinType2']\n",
    "\n",
    "# Identify rows where both BsmtFinType2 and BsmtExposure are null\n",
    "condition = test_df['BsmtFinType2'].isna() & test_df['BsmtExposure'].isna()\n",
    "\n",
    "# Fill only those rows with 'NA' in the specified columns\n",
    "test_df.loc[condition, bsmt_cols] = test_df.loc[condition, bsmt_cols].fillna('NA')"
   ]
  },
  {
   "cell_type": "code",
   "execution_count": 190,
   "id": "4b53e814-e57d-46bc-a767-ebf961035191",
   "metadata": {},
   "outputs": [
    {
     "data": {
      "text/plain": [
       "BsmtExposure     1\n",
       "BsmtFinType2     1\n",
       "Electrical       1\n",
       "GarageType      81\n",
       "GarageYrBlt     81\n",
       "GarageFinish    81\n",
       "GarageQual      81\n",
       "GarageCond      81\n",
       "dtype: int64"
      ]
     },
     "execution_count": 190,
     "metadata": {},
     "output_type": "execute_result"
    }
   ],
   "source": [
    "train_df.isnull().sum()[train_df.isnull().sum() > 0]"
   ]
  },
  {
   "cell_type": "code",
   "execution_count": 242,
   "id": "05a9cb48-b028-4d58-8e00-14d0c45663e9",
   "metadata": {},
   "outputs": [
    {
     "data": {
      "text/plain": [
       "MSZoning           4\n",
       "Alley           1352\n",
       "Utilities          2\n",
       "Exterior1st        1\n",
       "Exterior2nd        1\n",
       "MasVnrType       894\n",
       "MasVnrArea        15\n",
       "BsmtQual           2\n",
       "BsmtCond           3\n",
       "BsmtExposure       2\n",
       "BsmtFinSF1         1\n",
       "BsmtFinSF2         1\n",
       "BsmtUnfSF          1\n",
       "TotalBsmtSF        1\n",
       "BsmtFullBath       2\n",
       "BsmtHalfBath       2\n",
       "KitchenQual        1\n",
       "Functional         2\n",
       "GarageType        76\n",
       "GarageYrBlt       78\n",
       "GarageFinish      78\n",
       "GarageCars         1\n",
       "GarageArea         1\n",
       "GarageQual        78\n",
       "GarageCond        78\n",
       "PoolQC          1456\n",
       "Fence           1169\n",
       "MiscFeature     1408\n",
       "SaleType           1\n",
       "dtype: int64"
      ]
     },
     "execution_count": 242,
     "metadata": {},
     "output_type": "execute_result"
    }
   ],
   "source": [
    "test_df.isnull().sum()[test_df.isnull().sum() > 0]"
   ]
  },
  {
   "cell_type": "code",
   "execution_count": 200,
   "id": "418a9519-2daa-41f9-a07e-b35653c5b545",
   "metadata": {},
   "outputs": [],
   "source": [
    "train_df = train_df.dropna(subset=['BsmtFinType2', 'BsmtExposure'])"
   ]
  },
  {
   "cell_type": "code",
   "execution_count": 202,
   "id": "065632aa-064c-41d3-8b5f-a5d00116925f",
   "metadata": {},
   "outputs": [
    {
     "data": {
      "text/plain": [
       "Electrical       1\n",
       "GarageType      81\n",
       "GarageYrBlt     81\n",
       "GarageFinish    81\n",
       "GarageQual      81\n",
       "GarageCond      81\n",
       "dtype: int64"
      ]
     },
     "execution_count": 202,
     "metadata": {},
     "output_type": "execute_result"
    }
   ],
   "source": [
    "train_df.isnull().sum()[train_df.isnull().sum() > 0]"
   ]
  },
  {
   "cell_type": "code",
   "execution_count": 206,
   "id": "3c9470c9-8872-4a09-a454-347f446c9003",
   "metadata": {},
   "outputs": [],
   "source": [
    "train_df['Electrical'] = train_df['Electrical'].fillna(train_df['Electrical'].mode()[0])"
   ]
  },
  {
   "cell_type": "code",
   "execution_count": 208,
   "id": "6abb4609-0627-4a37-96ee-5ce9eb8834d1",
   "metadata": {},
   "outputs": [
    {
     "data": {
      "text/plain": [
       "GarageType      81\n",
       "GarageYrBlt     81\n",
       "GarageFinish    81\n",
       "GarageQual      81\n",
       "GarageCond      81\n",
       "dtype: int64"
      ]
     },
     "execution_count": 208,
     "metadata": {},
     "output_type": "execute_result"
    }
   ],
   "source": [
    "train_df.isnull().sum()[train_df.isnull().sum() > 0]"
   ]
  },
  {
   "cell_type": "code",
   "execution_count": 218,
   "id": "0ba8ae82-8f7e-49bf-abe9-38493a254428",
   "metadata": {},
   "outputs": [],
   "source": [
    "garage_cols = ['GarageType', 'GarageFinish', 'GarageQual', 'GarageCond']\n",
    "train_df[garage_cols] = train_df[garage_cols].fillna('NA')"
   ]
  },
  {
   "cell_type": "code",
   "execution_count": 220,
   "id": "3ab03a68-4861-4115-9370-60b6a243d478",
   "metadata": {},
   "outputs": [
    {
     "data": {
      "text/plain": [
       "GarageYrBlt    81\n",
       "dtype: int64"
      ]
     },
     "execution_count": 220,
     "metadata": {},
     "output_type": "execute_result"
    }
   ],
   "source": [
    "train_df.isnull().sum()[train_df.isnull().sum() > 0]"
   ]
  },
  {
   "cell_type": "code",
   "execution_count": 224,
   "id": "cf9de191-b16b-4e00-8064-982f902b85b3",
   "metadata": {},
   "outputs": [],
   "source": [
    "# GarageYrBlt values are null when GarageType==NA which means that there is no garage in the first place so we filled it with 0000\n",
    "train_df['GarageYrBlt'] = train_df['GarageYrBlt'].fillna(0000)"
   ]
  },
  {
   "cell_type": "code",
   "execution_count": 226,
   "id": "24bec57d-3d7f-414d-8cbe-85e88b1f03aa",
   "metadata": {},
   "outputs": [
    {
     "data": {
      "text/plain": [
       "Series([], dtype: int64)"
      ]
     },
     "execution_count": 226,
     "metadata": {},
     "output_type": "execute_result"
    }
   ],
   "source": [
    "train_df.isnull().sum()[train_df.isnull().sum() > 0]"
   ]
  },
  {
   "cell_type": "code",
   "execution_count": 1246,
   "id": "01287962-8077-4c01-8d1d-5f8aed6cb37a",
   "metadata": {},
   "outputs": [],
   "source": [
    "# go back to 6th dimention --> Completeness"
   ]
  },
  {
   "cell_type": "markdown",
   "id": "f7cee10f-0af8-44e5-b595-8e965294daad",
   "metadata": {},
   "source": [
    "### Correcting errors\n",
    "\n",
    "-------------------"
   ]
  },
  {
   "cell_type": "code",
   "execution_count": 248,
   "id": "001bbb79-d75e-4cc6-9064-f8d781711044",
   "metadata": {},
   "outputs": [],
   "source": [
    "train_df['CentralAir'] = train_df['CentralAir'].map({'Y': True, 'N': False})"
   ]
  },
  {
   "cell_type": "code",
   "execution_count": 250,
   "id": "e2d53691-586b-4b43-bc43-cfb7ea3e2736",
   "metadata": {},
   "outputs": [
    {
     "name": "stdout",
     "output_type": "stream",
     "text": [
      "<class 'pandas.core.frame.DataFrame'>\n",
      "Index: 1458 entries, 0 to 1459\n",
      "Data columns (total 73 columns):\n",
      " #   Column         Non-Null Count  Dtype  \n",
      "---  ------         --------------  -----  \n",
      " 0   Id             1458 non-null   int64  \n",
      " 1   MSSubClass     1458 non-null   int64  \n",
      " 2   MSZoning       1458 non-null   object \n",
      " 3   LotFrontage    1458 non-null   float64\n",
      " 4   LotArea        1458 non-null   int64  \n",
      " 5   Street         1458 non-null   object \n",
      " 6   LotShape       1458 non-null   object \n",
      " 7   LandContour    1458 non-null   object \n",
      " 8   Utilities      1458 non-null   object \n",
      " 9   LotConfig      1458 non-null   object \n",
      " 10  LandSlope      1458 non-null   object \n",
      " 11  Neighborhood   1458 non-null   object \n",
      " 12  Condition1     1458 non-null   object \n",
      " 13  Condition2     1458 non-null   object \n",
      " 14  BldgType       1458 non-null   object \n",
      " 15  HouseStyle     1458 non-null   object \n",
      " 16  OverallQual    1458 non-null   int64  \n",
      " 17  OverallCond    1458 non-null   int64  \n",
      " 18  YearBuilt      1458 non-null   int64  \n",
      " 19  YearRemodAdd   1458 non-null   int64  \n",
      " 20  RoofStyle      1458 non-null   object \n",
      " 21  RoofMatl       1458 non-null   object \n",
      " 22  Exterior1st    1458 non-null   object \n",
      " 23  Exterior2nd    1458 non-null   object \n",
      " 24  ExterQual      1458 non-null   object \n",
      " 25  ExterCond      1458 non-null   object \n",
      " 26  Foundation     1458 non-null   object \n",
      " 27  BsmtQual       1458 non-null   object \n",
      " 28  BsmtCond       1458 non-null   object \n",
      " 29  BsmtExposure   1458 non-null   object \n",
      " 30  BsmtFinType1   1458 non-null   object \n",
      " 31  BsmtFinSF1     1458 non-null   int64  \n",
      " 32  BsmtFinType2   1458 non-null   object \n",
      " 33  BsmtFinSF2     1458 non-null   int64  \n",
      " 34  BsmtUnfSF      1458 non-null   int64  \n",
      " 35  TotalBsmtSF    1458 non-null   int64  \n",
      " 36  Heating        1458 non-null   object \n",
      " 37  HeatingQC      1458 non-null   object \n",
      " 38  CentralAir     1458 non-null   bool   \n",
      " 39  Electrical     1458 non-null   object \n",
      " 40  1stFlrSF       1458 non-null   int64  \n",
      " 41  2ndFlrSF       1458 non-null   int64  \n",
      " 42  LowQualFinSF   1458 non-null   int64  \n",
      " 43  GrLivArea      1458 non-null   int64  \n",
      " 44  BsmtFullBath   1458 non-null   int64  \n",
      " 45  BsmtHalfBath   1458 non-null   int64  \n",
      " 46  FullBath       1458 non-null   int64  \n",
      " 47  HalfBath       1458 non-null   int64  \n",
      " 48  BedroomAbvGr   1458 non-null   int64  \n",
      " 49  KitchenAbvGr   1458 non-null   int64  \n",
      " 50  KitchenQual    1458 non-null   object \n",
      " 51  TotRmsAbvGrd   1458 non-null   int64  \n",
      " 52  Functional     1458 non-null   object \n",
      " 53  Fireplaces     1458 non-null   int64  \n",
      " 54  FireplaceQu    1458 non-null   object \n",
      " 55  GarageType     1458 non-null   object \n",
      " 56  GarageYrBlt    1458 non-null   float64\n",
      " 57  GarageFinish   1458 non-null   object \n",
      " 58  GarageCars     1458 non-null   int64  \n",
      " 59  GarageArea     1458 non-null   int64  \n",
      " 60  GarageQual     1458 non-null   object \n",
      " 61  GarageCond     1458 non-null   object \n",
      " 62  PavedDrive     1458 non-null   object \n",
      " 63  WoodDeckSF     1458 non-null   int64  \n",
      " 64  OpenPorchSF    1458 non-null   int64  \n",
      " 65  EnclosedPorch  1458 non-null   int64  \n",
      " 66  3SsnPorch      1458 non-null   int64  \n",
      " 67  ScreenPorch    1458 non-null   int64  \n",
      " 68  MoSold         1458 non-null   int64  \n",
      " 69  YrSold         1458 non-null   int64  \n",
      " 70  SaleType       1458 non-null   object \n",
      " 71  SaleCondition  1458 non-null   object \n",
      " 72  SalePrice      1458 non-null   int64  \n",
      "dtypes: bool(1), float64(2), int64(33), object(37)\n",
      "memory usage: 832.9+ KB\n"
     ]
    }
   ],
   "source": [
    "train_df.info()"
   ]
  },
  {
   "cell_type": "code",
   "execution_count": 254,
   "id": "e4ee19de-122e-46f2-953f-8a9dedf4e081",
   "metadata": {},
   "outputs": [],
   "source": [
    "train_df['GarageYrBlt']=train_df['GarageYrBlt'].astype(int)"
   ]
  },
  {
   "cell_type": "code",
   "execution_count": 256,
   "id": "6a87788a-b9cd-420a-8ae4-25fc3d54aee8",
   "metadata": {
    "scrolled": true
   },
   "outputs": [
    {
     "name": "stdout",
     "output_type": "stream",
     "text": [
      "<class 'pandas.core.frame.DataFrame'>\n",
      "Index: 1458 entries, 0 to 1459\n",
      "Data columns (total 73 columns):\n",
      " #   Column         Non-Null Count  Dtype  \n",
      "---  ------         --------------  -----  \n",
      " 0   Id             1458 non-null   int64  \n",
      " 1   MSSubClass     1458 non-null   int64  \n",
      " 2   MSZoning       1458 non-null   object \n",
      " 3   LotFrontage    1458 non-null   float64\n",
      " 4   LotArea        1458 non-null   int64  \n",
      " 5   Street         1458 non-null   object \n",
      " 6   LotShape       1458 non-null   object \n",
      " 7   LandContour    1458 non-null   object \n",
      " 8   Utilities      1458 non-null   object \n",
      " 9   LotConfig      1458 non-null   object \n",
      " 10  LandSlope      1458 non-null   object \n",
      " 11  Neighborhood   1458 non-null   object \n",
      " 12  Condition1     1458 non-null   object \n",
      " 13  Condition2     1458 non-null   object \n",
      " 14  BldgType       1458 non-null   object \n",
      " 15  HouseStyle     1458 non-null   object \n",
      " 16  OverallQual    1458 non-null   int64  \n",
      " 17  OverallCond    1458 non-null   int64  \n",
      " 18  YearBuilt      1458 non-null   int64  \n",
      " 19  YearRemodAdd   1458 non-null   int64  \n",
      " 20  RoofStyle      1458 non-null   object \n",
      " 21  RoofMatl       1458 non-null   object \n",
      " 22  Exterior1st    1458 non-null   object \n",
      " 23  Exterior2nd    1458 non-null   object \n",
      " 24  ExterQual      1458 non-null   object \n",
      " 25  ExterCond      1458 non-null   object \n",
      " 26  Foundation     1458 non-null   object \n",
      " 27  BsmtQual       1458 non-null   object \n",
      " 28  BsmtCond       1458 non-null   object \n",
      " 29  BsmtExposure   1458 non-null   object \n",
      " 30  BsmtFinType1   1458 non-null   object \n",
      " 31  BsmtFinSF1     1458 non-null   int64  \n",
      " 32  BsmtFinType2   1458 non-null   object \n",
      " 33  BsmtFinSF2     1458 non-null   int64  \n",
      " 34  BsmtUnfSF      1458 non-null   int64  \n",
      " 35  TotalBsmtSF    1458 non-null   int64  \n",
      " 36  Heating        1458 non-null   object \n",
      " 37  HeatingQC      1458 non-null   object \n",
      " 38  CentralAir     1458 non-null   bool   \n",
      " 39  Electrical     1458 non-null   object \n",
      " 40  1stFlrSF       1458 non-null   int64  \n",
      " 41  2ndFlrSF       1458 non-null   int64  \n",
      " 42  LowQualFinSF   1458 non-null   int64  \n",
      " 43  GrLivArea      1458 non-null   int64  \n",
      " 44  BsmtFullBath   1458 non-null   int64  \n",
      " 45  BsmtHalfBath   1458 non-null   int64  \n",
      " 46  FullBath       1458 non-null   int64  \n",
      " 47  HalfBath       1458 non-null   int64  \n",
      " 48  BedroomAbvGr   1458 non-null   int64  \n",
      " 49  KitchenAbvGr   1458 non-null   int64  \n",
      " 50  KitchenQual    1458 non-null   object \n",
      " 51  TotRmsAbvGrd   1458 non-null   int64  \n",
      " 52  Functional     1458 non-null   object \n",
      " 53  Fireplaces     1458 non-null   int64  \n",
      " 54  FireplaceQu    1458 non-null   object \n",
      " 55  GarageType     1458 non-null   object \n",
      " 56  GarageYrBlt    1458 non-null   int32  \n",
      " 57  GarageFinish   1458 non-null   object \n",
      " 58  GarageCars     1458 non-null   int64  \n",
      " 59  GarageArea     1458 non-null   int64  \n",
      " 60  GarageQual     1458 non-null   object \n",
      " 61  GarageCond     1458 non-null   object \n",
      " 62  PavedDrive     1458 non-null   object \n",
      " 63  WoodDeckSF     1458 non-null   int64  \n",
      " 64  OpenPorchSF    1458 non-null   int64  \n",
      " 65  EnclosedPorch  1458 non-null   int64  \n",
      " 66  3SsnPorch      1458 non-null   int64  \n",
      " 67  ScreenPorch    1458 non-null   int64  \n",
      " 68  MoSold         1458 non-null   int64  \n",
      " 69  YrSold         1458 non-null   int64  \n",
      " 70  SaleType       1458 non-null   object \n",
      " 71  SaleCondition  1458 non-null   object \n",
      " 72  SalePrice      1458 non-null   int64  \n",
      "dtypes: bool(1), float64(1), int32(1), int64(33), object(37)\n",
      "memory usage: 827.2+ KB\n"
     ]
    }
   ],
   "source": [
    "train_df.info()"
   ]
  },
  {
   "cell_type": "code",
   "execution_count": 1279,
   "id": "f1d95da5-a3ba-473a-8243-aa177cadae20",
   "metadata": {},
   "outputs": [],
   "source": [
    "# go back to 7th dimension Accuracy "
   ]
  },
  {
   "cell_type": "markdown",
   "id": "5ecc7dbb-6867-44cf-8f99-1b969a80be40",
   "metadata": {},
   "source": [
    "### Dealing with outliers:"
   ]
  },
  {
   "attachments": {},
   "cell_type": "markdown",
   "id": "88347887-4bdf-48af-9486-cb8fe80c97af",
   "metadata": {},
   "source": [
    "**How to remove Outliers?**\n",
    "Most of the ways to deal with outliers are similar to the methods of missing values like deleting rows, transforming them, binning them, treat them as a separate group, imputing values and other statistical methods. Here, we will discuss the common techniques used to deal with outliers:\n",
    "\n",
    "1. Deleting rows: We delete outlier values if it is due to data entry error, data processing error or outlier rows are very small in numbers. We can also use trimming at both ends to remove outliers.\n",
    "\n",
    "2. Imputing: Like imputation of missing values, we can also impute outliers. We can use mean, median, mode imputation methods. Before imputing values, we should analyse if it is natural outlier or artificial. If it is artificial, we can go with imputing values. We can also use statistical model to predict values of outlier rows and after that we can impute it with predicted values.\n",
    "\n",
    "3. Treat separately: If there are significant number of outliers, we should treat them separately in the statistical model. One of the approach is to treat both groups as two different groups and build individual model for both groups and then combine the output.\n"
   ]
  },
  {
   "cell_type": "code",
   "execution_count": null,
   "id": "25a585f0-2b9c-42fa-bf21-cacc6aa3be3f",
   "metadata": {},
   "outputs": [],
   "source": []
  },
  {
   "cell_type": "markdown",
   "id": "98548b66-e309-4eb8-a5dc-65fe0abbf1e8",
   "metadata": {},
   "source": [
    "## 3. Univariate Analysis: \n",
    "\n",
    "This involves examining single variables to understand their characteristics (distribution, central tendency, dispersion, and shape).\n",
    "\n",
    "We calculate **numerical values** about the data that tells us about the distribution of the data. We also **draw graphs** showing visually how the data is distributed. **To answer the following questions about Features/characteristics of Data:**\n",
    "- Where is the center of the data? (location)\n",
    "- How much does the data vary? (scale)\n",
    "- What is the shape of the data? (shape)\n",
    "\n",
    "**The benefits of this analysis:**\n",
    "Statistics summary gives a high-level idea to identify whether the data has any outliers, data entry error, distribution of data such as the data is normally distributed or left/right skewed\n",
    "\n",
    "**In this step, we will explore variables one by one using following approaches:**"
   ]
  },
  {
   "cell_type": "markdown",
   "id": "d6718111-7ac2-4fff-9851-654655b62e0b",
   "metadata": {},
   "source": [
    "### 1. Univariate Graphical Analysis:\n",
    "Method to perform uni-variate analysis will depend on whether the variable type is categorical or numerical."
   ]
  },
  {
   "cell_type": "markdown",
   "id": "0d57c4b9-9bb3-494d-85dd-b8d39afda139",
   "metadata": {},
   "source": [
    "#### I. Categorical Variables:\n",
    "\n",
    "we’ll use frequency table to understand distribution of each category\n",
    "- Bar Chart (Ordinal) - Orderd\n",
    "- Pie Chart (Nominal) - non Orderd"
   ]
  },
  {
   "cell_type": "markdown",
   "id": "d2641f0d-80f2-493b-99b7-15476379a1e2",
   "metadata": {},
   "source": [
    "#### II. Numerical Variables:\n",
    "\n",
    "we need to understand the central tendency and spread of the variable (Descriptive Analysis) using:\n",
    "   - Box plot\n",
    "   - Histogram"
   ]
  },
  {
   "cell_type": "markdown",
   "id": "d66677d3-44ad-414f-9b39-f9c1995ad043",
   "metadata": {},
   "source": [
    "### 2. Univariate Non-Graphical analysis: \n",
    "\n",
    "- Where is the center of the data? (location) --> **Measures of central tendency**\n",
    "- How much does the data vary? (scale) --> **Measure of variability**\n",
    "- What is the shape of the data? (shape) --> **Measures of variation combined with an average (measure of center) gives a good picture of the distribution of the data.**"
   ]
  },
  {
   "cell_type": "code",
   "execution_count": null,
   "id": "f1058d84-e61e-4f5b-b66a-29931e77821b",
   "metadata": {},
   "outputs": [],
   "source": []
  },
  {
   "cell_type": "markdown",
   "id": "f09bb809-0edd-432b-bf23-abd0840b3e16",
   "metadata": {},
   "source": [
    "## 4. Bivariate/Multivariate Analysis:\n",
    "\n",
    "Here, you look at the relationships between two or more variables. This can involve looking for correlations, patterns, and trends that suggest a relationship or an association.\n",
    "\n",
    "We can perform bi-variate analysis for any combination of categorical and numerical variables. The combination can be:\n",
    "| bi-variate variables   | Plot type |\n",
    "| ------------- | ------------- |\n",
    "| Categorical & Categorical| Stacked Bar Chart |\n",
    "| Categorical & numerical  | scatter plot, histogram, box plot|\n",
    "| numerical  & numerical  | Scatter plot, line chart| \n",
    "\n",
    "\n",
    "Multivariate Analysis:\n",
    "- Heat map\n",
    "- Bar Chart\n",
    "- Scatter Chart\n",
    "- Line Chart"
   ]
  },
  {
   "cell_type": "markdown",
   "id": "838f2864-ce9e-4f15-99c8-052d053154a7",
   "metadata": {},
   "source": [
    "**Categorical & Categorical --> (Stacked Column Chart)**"
   ]
  },
  {
   "cell_type": "code",
   "execution_count": null,
   "id": "8c7c662e-de74-4108-987a-4cc3c4e95686",
   "metadata": {},
   "outputs": [],
   "source": []
  },
  {
   "cell_type": "markdown",
   "id": "730e088f-fe13-40da-8fbb-686f5135fa4d",
   "metadata": {},
   "source": [
    "**Categorical & numerical --> (scatter plot, histogram, box plot)**"
   ]
  },
  {
   "cell_type": "code",
   "execution_count": null,
   "id": "3590e345-2051-4215-91ac-07d196b510ef",
   "metadata": {},
   "outputs": [],
   "source": []
  },
  {
   "cell_type": "markdown",
   "id": "20aed48d-b78e-46da-963f-e7f15e2f4dc7",
   "metadata": {},
   "source": [
    "**numerical & numerical --> (Scatter plot, line chart)**"
   ]
  },
  {
   "cell_type": "code",
   "execution_count": null,
   "id": "41023177-01cb-4f39-a750-12be71b13bda",
   "metadata": {},
   "outputs": [],
   "source": []
  },
  {
   "cell_type": "markdown",
   "id": "efb43b30-b1f0-48a4-a19c-195810cc8a0f",
   "metadata": {},
   "source": [
    "We could also use a correlation matrix to get more specific information about the relationship between these two variables."
   ]
  },
  {
   "cell_type": "code",
   "execution_count": null,
   "id": "fbff8ba5-eb1c-4372-8242-4f74f5a96764",
   "metadata": {},
   "outputs": [],
   "source": []
  },
  {
   "cell_type": "code",
   "execution_count": null,
   "id": "9c165279-d340-4261-847b-2df7df745df9",
   "metadata": {},
   "outputs": [],
   "source": []
  }
 ],
 "metadata": {
  "kernelspec": {
   "display_name": "Python [conda env:base] *",
   "language": "python",
   "name": "conda-base-py"
  },
  "language_info": {
   "codemirror_mode": {
    "name": "ipython",
    "version": 3
   },
   "file_extension": ".py",
   "mimetype": "text/x-python",
   "name": "python",
   "nbconvert_exporter": "python",
   "pygments_lexer": "ipython3",
   "version": "3.12.7"
  }
 },
 "nbformat": 4,
 "nbformat_minor": 5
}
